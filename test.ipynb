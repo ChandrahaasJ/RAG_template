{
 "cells": [
  {
   "cell_type": "code",
   "execution_count": 4,
   "metadata": {},
   "outputs": [
    {
     "name": "stdout",
     "output_type": "stream",
     "text": [
      "['akmkdkejnnev']\n"
     ]
    }
   ],
   "source": [
    "s=\"akmkdkejnnev\"\n",
    "l=s.split(',')\n",
    "print(l)"
   ]
  },
  {
   "cell_type": "code",
   "execution_count": 2,
   "metadata": {},
   "outputs": [],
   "source": [
    "from trafilatura import fetch_url, extract"
   ]
  },
  {
   "cell_type": "code",
   "execution_count": 9,
   "metadata": {},
   "outputs": [
    {
     "name": "stdout",
     "output_type": "stream",
     "text": [
      "auth err\n",
      "None\n"
     ]
    }
   ],
   "source": [
    "downloaded = fetch_url('https://leetcode.com/problem-list/breadth-first-search/')\n",
    "result = extract(downloaded)\n",
    "if(result==None):\n",
    "    print(\"auth err\")\n",
    "print(result)"
   ]
  },
  {
   "cell_type": "code",
   "execution_count": 1,
   "metadata": {},
   "outputs": [
    {
     "name": "stdout",
     "output_type": "stream",
     "text": [
      "[1, 2, 3, 4, [7, 8, 9, 10]]\n"
     ]
    }
   ],
   "source": [
    "l=[1,2,3,4]\n",
    "l1=[7,8,9,10]\n",
    "l.append(l1)\n",
    "print(l)"
   ]
  },
  {
   "cell_type": "code",
   "execution_count": 16,
   "metadata": {},
   "outputs": [],
   "source": [
    "import requests\n",
    "\n",
    "def getresult(topic1,topic2):\n",
    "    text=\"\"\"here are the two chunks\n",
    "     chunk1 = {topic1}\n",
    "     chunk2 = {topic2}\n",
    "     \n",
    "     tell me whether if the following two chunks go together or not?\n",
    "     Reply in a SINGLE WORD ONLY.\n",
    "     your reply should be YES if they go together and NO if they dont go together\n",
    "     \n",
    "     ANSWER FORMAT: Single word ONLY\n",
    "     YES  :  if the both chunks go together\n",
    "     NO   :  if both the chunks dont go together\"\"\"\n",
    "    response = requests.post(\n",
    "    \"http://localhost:11434/api/generate\",\n",
    "    json={\n",
    "        \"model\": \"phi\",\n",
    "        \"prompt\": text,\n",
    "        \"stream\": False\n",
    "    }\n",
    "    )\n",
    "    return response.json()['response']"
   ]
  },
  {
   "cell_type": "code",
   "execution_count": null,
   "metadata": {},
   "outputs": [],
   "source": [
    "import requests\n",
    "\n",
    "def getresult(topic1,topic2):\n",
    "    text=\"\"\"here are the two chunks\n",
    "     chunk1 = {topic1}\n",
    "     chunk2 = {topic2}\n",
    "     \n",
    "     tell me whether if the following two chunks go together or not?\n",
    "     Reply in a SINGLE WORD ONLY.\n",
    "     your reply should be YES if they go together and NO if they dont go together\n",
    "     \n",
    "     ANSWER FORMAT: Single word ONLY\n",
    "     YES  :  if the both chunks go together\n",
    "     NO   :  if both the chunks dont go together\"\"\"\n",
    "    response = requests.post(\n",
    "    \"http://localhost:11434/api/generate\",\n",
    "    json={\n",
    "        \"model\": \"phi\",\n",
    "        \"prompt\": text,\n",
    "        \"stream\": False\n",
    "    }\n",
    "    )\n",
    "    return response.json()['response']"
   ]
  },
  {
   "cell_type": "code",
   "execution_count": 3,
   "metadata": {},
   "outputs": [],
   "source": [
    "import requests\n",
    "\n",
    "def getresult(topic1,topic2):\n",
    "    text = \"\"\"[SYSTEM: You are a binary classifier analyzing text coherence. Here are examples of YES/NO cases:\n",
    "\n",
    "            YES Example:\n",
    "            Chunk 1: \"The company started in 1990. It began with just 5 employees.\"\n",
    "            Chunk 2: \"By 1995, the company had grown to 50 employees and opened its first branch.\"\n",
    "\n",
    "            NO Example:\n",
    "            Chunk 1: \"The company started in 1990. It began with just 5 employees.\"\n",
    "            Chunk 2: \"The weather was sunny today. Many people went to the beach.\"\n",
    "\n",
    "            These are the criteria for classification:\n",
    "                1. Topic continuity\n",
    "                2. Temporal flow\n",
    "                3. Logical connection\n",
    "                4. Shared context\n",
    "                5. Narrative progression]\n",
    "\n",
    "            TASK: Determine if these text chunks form a coherent narrative.\n",
    "\n",
    "            CHUNK 1: {topic1}\n",
    "            CHUNK 2: {topic2}\n",
    "\n",
    "            ANALYSIS CRITERIA:\n",
    "            - Do the chunks discuss the same main topic?\n",
    "            - Is there a logical progression between chunks?\n",
    "            - Do they share common context or references?\n",
    "            - Is the timeline consistent?\n",
    "            - Do they build upon each other's information?\n",
    "            STRICT RULES:\n",
    "            - Output must be exactly one word: either 'YES' or 'NO'\n",
    "            - No explanations\n",
    "            - No additional text\n",
    "            - No punctuation\n",
    "            - No capitalization variations\n",
    "\n",
    "            RESPONSE FORMAT:\n",
    "            YES\n",
    "\n",
    "            or\n",
    "\n",
    "            NO\"\"\"\n",
    "    response = requests.post(\n",
    "    \"http://localhost:11434/api/generate\",\n",
    "    json={\n",
    "        \"model\": \"phi\",\n",
    "        \"prompt\": text,\n",
    "        \"stream\": False\n",
    "    }\n",
    "    )\n",
    "    return response.json()['response']"
   ]
  },
  {
   "cell_type": "code",
   "execution_count": 4,
   "metadata": {},
   "outputs": [
    {
     "name": "stdout",
     "output_type": "stream",
     "text": [
      " Sure, I can assist you with that. Let's take a look at the two examples you provided and see if they meet all the criteria for classification as a coherent narrative. \n",
      "\n",
      "For example, in the first case, the two chunks discuss different topics (a company's growth vs. weather) and do not build upon each other's information. There is no logical progression between them, nor does any shared context or references exist. Therefore, these chunks cannot form a coherent narrative under the given criteria and would be classified as \"NO\". \n",
      "\n",
      "However, in the second case, the two chunks discuss the same topic (the weather) and share common context by being set on the same day. There is also a logical progression between them, where people going to the beach builds upon the previous chunk's information about the sunny weather. Therefore, these chunks meet all of the criteria for classification as a coherent narrative under the given criteria and would be classified as \"YES\". \n",
      "\n",
      "I hope that helps! Let me know if you have any further questions or concerns.\n",
      "\n"
     ]
    }
   ],
   "source": [
    "t1=\"\"\"India and Pakistan, two neighboring nations in South Asia, have endured a fraught and often hostile relationship since their simultaneous independence and partition in 1947. The roots of their conflict are deeply entwined with the territorial dispute over Kashmir, a region both claim in full but each controls in part.\n",
    "\n",
    "Historical Background\n",
    "The seeds of discord were sown during the 1947 partition, which created India and Pakistan as separate states. The princely state of Jammu and Kashmir, with a largely Muslim population but a Hindu ruler, became the focal point of their rivalry. In October 1947, tribal forces from Pakistan invaded Kashmir, prompting its ruler to accede to India in exchange for military assistance. This led to the First Indo-Pakistani War, ending in a UN-brokered ceasefire in 1949 and the establishment of a de facto border, the Line of Control (LoC), dividing Kashmir between the two countries.\n",
    "\"\"\"\n",
    "\n",
    "t2=\"\"\"Subsequent decades saw repeated wars and skirmishes-most notably in 1965 and 1971. The 1971 conflict, triggered by the Bangladesh Liberation War, resulted in the creation of Bangladesh and a further reconfiguration of South Asian geopolitics.\n",
    "\n",
    "Kashmir: The Flashpoint\n",
    "Kashmir remains the most volatile flashpoint. Both nations have fought three major wars over the region and countless smaller clashes. The LoC is frequently the site of ceasefire violations, cross-border shelling, and militant infiltration. The situation escalated dramatically in 2019 when India revoked Article 370, stripping Jammu and Kashmir of its special status. Pakistan responded by downgrading diplomatic ties and suspending trade and transport links.\n",
    "\n",
    "Cross-Border Terrorism and Recent Escalations\n",
    "A persistent source of tension is cross-border terrorism. India accuses Pakistan of supporting militant groups that operate in Kashmir, citing attacks such as the 2008 Mumbai attacks and the 2019 Pulwama suicide bombing. India has responded with surgical strikes and air raids on alleged terrorist camps in Pakistan, notably the Balakot airstrike in 2019.\n",
    "\"\"\"\n",
    "\n",
    "ans=getresult(t1,t2)\n",
    "print(ans)"
   ]
  },
  {
   "cell_type": "code",
   "execution_count": 3,
   "metadata": {},
   "outputs": [],
   "source": [
    "import faiss\n",
    "import numpy as np\n",
    "import requests\n",
    "jokes = [\n",
    "    {\"id\": 1, \"category\": \"animals\", \"text\": \"Why don't cows have any money? Because farmers milk them dry.\"},\n",
    "    {\"id\": 2, \"category\": \"tech\", \"text\": \"Why do programmers prefer dark mode? Because light attracts bugs.\"},\n",
    "    {\"id\": 3, \"category\": \"school\", \"text\": \"Why did the student eat his homework? Because the teacher said it was a piece of cake.\"},\n",
    "    {\"id\": 4, \"category\": \"classic\", \"text\": \"I told my wife she was drawing her eyebrows too high. She looked surprised.\"},\n",
    "    {\"id\": 5, \"category\": \"tech\", \"text\": \"How do you comfort a JavaScript bug? You console it.\"},\n",
    "    {\"id\": 6, \"category\": \"tech\", \"text\": \"Are you a private variable? cause i want to encapsulate you\"}\n",
    "]\n",
    "def get_embedding(text: str) -> np.ndarray:\n",
    "    response = requests.post(\n",
    "        \"http://localhost:11434/api/embeddings\",\n",
    "        json={\n",
    "            \"model\": \"nomic-embed-text\",\n",
    "            \"prompt\": text\n",
    "        }\n",
    "    )\n",
    "    response.raise_for_status()\n",
    "    return np.array(response.json()[\"embedding\"], dtype=np.float32)"
   ]
  },
  {
   "cell_type": "code",
   "execution_count": 2,
   "metadata": {},
   "outputs": [
    {
     "name": "stdout",
     "output_type": "stream",
     "text": [
      "6\n"
     ]
    }
   ],
   "source": [
    "embeds=[]\n",
    "for i in range(len(jokes)):\n",
    "    text=jokes[i]['text']\n",
    "    embeds.append(get_embedding(text))\n",
    "print(len(embeds))\n",
    "dim=len(embeds[0])\n",
    "index=faiss.IndexFlatL2(dim)\n",
    "index.add(np.stack(embeds))"
   ]
  },
  {
   "cell_type": "code",
   "execution_count": 3,
   "metadata": {},
   "outputs": [],
   "source": [
    "newt=jokes[5]['text']\n",
    "l=get_embedding(newt)\n",
    "l=l.reshape(1,-1)\n",
    "index.add(l)"
   ]
  },
  {
   "cell_type": "code",
   "execution_count": 2,
   "metadata": {},
   "outputs": [
    {
     "ename": "NameError",
     "evalue": "name 'get_embedding' is not defined",
     "output_type": "error",
     "traceback": [
      "\u001b[1;31m---------------------------------------------------------------------------\u001b[0m",
      "\u001b[1;31mNameError\u001b[0m                                 Traceback (most recent call last)",
      "Cell \u001b[1;32mIn[2], line 4\u001b[0m\n\u001b[0;32m      2\u001b[0m loaded_index \u001b[38;5;241m=\u001b[39m faiss\u001b[38;5;241m.\u001b[39mread_index(index_path)\n\u001b[0;32m      3\u001b[0m q\u001b[38;5;241m=\u001b[39m\u001b[38;5;124m\"\u001b[39m\u001b[38;5;124mwhat did anmol jain buy?\u001b[39m\u001b[38;5;124m\"\u001b[39m\n\u001b[1;32m----> 4\u001b[0m vec\u001b[38;5;241m=\u001b[39mget_embedding(q)\u001b[38;5;241m.\u001b[39mreshape(\u001b[38;5;241m1\u001b[39m,\u001b[38;5;241m-\u001b[39m\u001b[38;5;241m1\u001b[39m)\n\u001b[0;32m      5\u001b[0m D,I\u001b[38;5;241m=\u001b[39mloaded_index\u001b[38;5;241m.\u001b[39msearch(vec,k\u001b[38;5;241m=\u001b[39m\u001b[38;5;241m2\u001b[39m)\n\u001b[0;32m      6\u001b[0m \u001b[38;5;28mprint\u001b[39m(I)\n",
      "\u001b[1;31mNameError\u001b[0m: name 'get_embedding' is not defined"
     ]
    }
   ],
   "source": [
    "index_path = \"faiss_index/index.bin\"\n",
    "loaded_index = faiss.read_index(index_path)\n",
    "q=\"what did anmol jain buy?\"\n",
    "vec=get_embedding(q).reshape(1,-1)\n",
    "D,I=loaded_index.search(vec,k=2)\n",
    "print(I)"
   ]
  },
  {
   "cell_type": "code",
   "execution_count": 5,
   "metadata": {},
   "outputs": [],
   "source": [
    "index_path = \"faiss_index/index.bin\"\n",
    "faiss.write_index(index, index_path)"
   ]
  },
  {
   "cell_type": "code",
   "execution_count": 7,
   "metadata": {},
   "outputs": [],
   "source": [
    "# Load the index\n",
    "index_path = \"faiss_index/index.bin\"\n",
    "loaded_index = faiss.read_index(index_path)\n",
    "D,I=loaded_index.search(vec,k=2)\n",
    "loaded_index.add(vec)"
   ]
  },
  {
   "cell_type": "code",
   "execution_count": 8,
   "metadata": {},
   "outputs": [],
   "source": [
    "faiss.write_index(loaded_index, index_path)"
   ]
  },
  {
   "cell_type": "code",
   "execution_count": 3,
   "metadata": {},
   "outputs": [],
   "source": [
    "import numpy as np\n",
    "from sklearn.metrics.pairwise import cosine_similarity\n",
    "\n",
    "def cosine_sim(vec1, vec2):\n",
    "    # Reshape if needed\n",
    "    vec1 = vec1.reshape(1, -1)\n",
    "    vec2 = vec2.reshape(1, -1)\n",
    "    return cosine_similarity(vec1, vec2)[0][0]"
   ]
  },
  {
   "cell_type": "code",
   "execution_count": 5,
   "metadata": {},
   "outputs": [
    {
     "name": "stdout",
     "output_type": "stream",
     "text": [
      "0.8736168\n"
     ]
    }
   ],
   "source": [
    "t1=\"\"\"India and Pakistan, two neighboring nations in South Asia, have endured a fraught and often hostile relationship since their simultaneous independence and partition in 1947. The roots of their conflict are deeply entwined with the territorial dispute over Kashmir, a region both claim in full but each controls in part.\n",
    "\n",
    "Historical Background\n",
    "The seeds of discord were sown during the 1947 partition, which created India and Pakistan as separate states. The princely state of Jammu and Kashmir, with a largely Muslim population but a Hindu ruler, became the focal point of their rivalry. In October 1947, tribal forces from Pakistan invaded Kashmir, prompting its ruler to accede to India in exchange for military assistance. This led to the First Indo-Pakistani War, ending in a UN-brokered ceasefire in 1949 and the establishment of a de facto border, the Line of Control (LoC), dividing Kashmir between the two countries.\n",
    "\"\"\"\n",
    "\n",
    "t2=\"\"\"Subsequent decades saw repeated wars and skirmishes-most notably in 1965 and 1971. The 1971 conflict, triggered by the Bangladesh Liberation War, resulted in the creation of Bangladesh and a further reconfiguration of South Asian geopolitics.\n",
    "\n",
    "Kashmir: The Flashpoint\n",
    "Kashmir remains the most volatile flashpoint. Both nations have fought three major wars over the region and countless smaller clashes. The LoC is frequently the site of ceasefire violations, cross-border shelling, and militant infiltration. The situation escalated dramatically in 2019 when India revoked Article 370, stripping Jammu and Kashmir of its special status. Pakistan responded by downgrading diplomatic ties and suspending trade and transport links.\n",
    "\n",
    "Cross-Border Terrorism and Recent Escalations\n",
    "A persistent source of tension is cross-border terrorism. India accuses Pakistan of supporting militant groups that operate in Kashmir, citing attacks such as the 2008 Mumbai attacks and the 2019 Pulwama suicide bombing. India has responded with surgical strikes and air raids on alleged terrorist camps in Pakistan, notably the Balakot airstrike in 2019.\n",
    "\"\"\"\n",
    "\n",
    "v1=get_embedding(t1)\n",
    "v2=get_embedding(t2)\n",
    "ans=cosine_sim(v1,v2)\n",
    "print(ans)"
   ]
  },
  {
   "cell_type": "code",
   "execution_count": 12,
   "metadata": {},
   "outputs": [
    {
     "name": "stdout",
     "output_type": "stream",
     "text": [
      "similarity between t3 and t4 is : 0.47724005579948425\n",
      "similarity between t3 and t5 is : 0.7329063415527344\n",
      "similarity between t3 and t4+t5 is : 0.6797259449958801\n"
     ]
    }
   ],
   "source": [
    "t3=\"\"\"India and Pakistan, two neighboring nations in South Asia, have endured a fraught and often hostile relationship since their simultaneous independence and partition in 1947. The roots of their conflict are deeply entwined with the territorial dispute over Kashmir, a region both claim in full but each controls in part.\n",
    "\n",
    "Historical Background\n",
    "The seeds of discord were sown during the 1947 partition, which created India and Pakistan as separate states. The princely state of Jammu and Kashmir, with a largely Muslim population but a Hindu ruler, became the focal point of their rivalry. In October 1947, tribal forces from Pakistan invaded Kashmir, prompting its ruler to accede to India in exchange for military assistance. This led to the First Indo-Pakistani War, ending in a UN-brokered ceasefire in 1949 and the establishment of a de facto border, the Line of Control (LoC), dividing Kashmir between the two countries.\n",
    "\"\"\"\n",
    "t4=\"KMIT was established in 1947\"\n",
    "\n",
    "t5=\"and now it might be caught in the upcoming war between india and pakistan\"\n",
    "v3=get_embedding(t4)\n",
    "v4=get_embedding(t5)\n",
    "v5=get_embedding(t4+t5)\n",
    "ans2=cosine_sim(v1,v3)\n",
    "ans3=cosine_sim(v1,v4)\n",
    "ans4=cosine_sim(v1,v5)\n",
    "print(f\"similarity between t3 and t4 is : {ans2}\")\n",
    "print(f\"similarity between t3 and t5 is : {ans3}\")\n",
    "print(f\"similarity between t3 and t4+t5 is : {ans4}\")"
   ]
  },
  {
   "cell_type": "code",
   "execution_count": 15,
   "metadata": {},
   "outputs": [],
   "source": [
    "import json\n",
    "with open(r\"C:\\EAG\\RAG\\RAG_template\\template\\faiss_index\\meta_data.json\",'w')as f:\n",
    "    json.dump([],f)\n"
   ]
  },
  {
   "cell_type": "code",
   "execution_count": 17,
   "metadata": {},
   "outputs": [
    {
     "ename": "NameError",
     "evalue": "name 'index' is not defined",
     "output_type": "error",
     "traceback": [
      "\u001b[1;31m---------------------------------------------------------------------------\u001b[0m",
      "\u001b[1;31mNameError\u001b[0m                                 Traceback (most recent call last)",
      "Cell \u001b[1;32mIn[17], line 1\u001b[0m\n\u001b[1;32m----> 1\u001b[0m \u001b[38;5;28mprint\u001b[39m(index)\n",
      "\u001b[1;31mNameError\u001b[0m: name 'index' is not defined"
     ]
    }
   ],
   "source": [
    "print(index)"
   ]
  },
  {
   "cell_type": "code",
   "execution_count": 4,
   "metadata": {},
   "outputs": [
    {
     "name": "stdout",
     "output_type": "stream",
     "text": [
      "[[5 4 3]]\n",
      "[[186.77798 250.20355 255.30586]]\n"
     ]
    }
   ],
   "source": [
    "# Load the index\n",
    "import faiss\n",
    "q=\"when were the seed of discord planted amongst india and pakistan?\"\n",
    "vec=get_embedding(q).reshape(1,-1)\n",
    "index_path = r\"C:\\EAG\\RAG\\RAG_template\\template\\faiss_index\\index.bin\"\n",
    "loaded_index = faiss.read_index(index_path)\n",
    "D,I=loaded_index.search(vec,k=3)\n",
    "with open(r\"C:\\EAG\\RAG\\RAG_template\\template\\faiss_index\\meta_data.json\",'r') as f:\n",
    "    lst=f.read()\n",
    "lst=eval(lst)\n",
    "print(I)\n",
    "print(D)"
   ]
  },
  {
   "cell_type": "code",
   "execution_count": 6,
   "metadata": {},
   "outputs": [
    {
     "name": "stdout",
     "output_type": "stream",
     "text": [
      "flashpoint. Both nations have fought three major wars over the region and countless smaller clashes. The LoC is frequently the site of ceasefire violations, cross-border shelling, and militant infiltration. The situation escalated dramatically in 2019 when India revoked Article 370, stripping Jammu and Kashmir of its special status. Pakistan responded by downgrading diplomatic ties and suspending trade and transport links. Cross-Border Terrorism and Recent Escalations A persistent source of tension is cross-border terrorism. India accuses Pakistan of supporting militant groups that operate in Kashmir, citing attacks such as the 2008 Mumbai attacks and the 2019 Pulwama suicide bombing. India has responded with surgical strikes and air raids on alleged terrorist camps in Pakistan, notably the Balakot airstrike in 2019. The most recent escalation occurred in April 2025, when a deadly attack in Indian-administered Kashmirâ€™s Pahalgam killed 26 civilians. India blamed Pakistan-based militants and, on May 7, launched \"Operation Sindoor,\" a series of missile and drone strikes targeting what it called \"terrorist infrastructure\" in Pakistan and Pakistan-administered Kashmir. Pakistan countered with its own military actions, including claims of downing Indian aircraft and retaliatory shelling across the LoC. Both sides have reported civilian casualties, and the risk of a broader conflict looms large. Nuclear Dimension and Global Concern Both India and Pakistan possess nuclear weapons, making their confrontations particularly alarming for the international community. Each episode of escalation prompts urgent calls for restraint from global leaders, who fear that even a limited conflict could spiral into a catastrophic nuclear exchange. Attempts at Peace Despite cycles of violence, there have been efforts at rapprochement. In 2021, both countries agreed to a renewed ceasefire along the LoC, raising hopes for dialogue. However, mistrust, unresolved grievances, and recurring violence have repeatedly undermined such initiatives. Conclusion The India-Pakistan conflict is a complex interplay of historical grievances, territorial disputes, religious identities, and geopolitical rivalries. Kashmir remains the epicenter of their animosity, with periodic escalations threatening regional and global stability. Until both sides find a durable political solution, the specter of conflict will continue to shadow South Asia India and Pakistan, two neighboring nations in South Asia, have endured a fraught and often hostile relationship since their simultaneous independence and partition in 1947. The roots of their conflict are deeply entwined with the territorial dispute over Kashmir, a region both claim in full but each controls in part. Historical Background The seeds of discord were sown during the 1947 partition, which created India and Pakistan as separate states. The princely state of Jammu and Kashmir, with a largely Muslim population but a Hindu ruler, became the focal point of their rivalry. In October 1947, tribal forces from Pakistan invaded Kashmir, prompting its ruler to accede to India in exchange for military assistance. This led to the First Indo-Pakistani War, ending in a UN-brokered ceasefire in 1949 and the establishment of a de facto border, the Line of Control (LoC), dividing Kashmir between the two countries. Subsequent decades saw repeated wars and skirmishes-most notably in 1965 and 1971. The 1971 conflict, triggered by the Bangladesh Liberation War, resulted in the creation\n"
     ]
    }
   ],
   "source": [
    "print(lst[5]['content'])"
   ]
  }
 ],
 "metadata": {
  "kernelspec": {
   "display_name": "base",
   "language": "python",
   "name": "python3"
  },
  "language_info": {
   "codemirror_mode": {
    "name": "ipython",
    "version": 3
   },
   "file_extension": ".py",
   "mimetype": "text/x-python",
   "name": "python",
   "nbconvert_exporter": "python",
   "pygments_lexer": "ipython3",
   "version": "3.12.4"
  }
 },
 "nbformat": 4,
 "nbformat_minor": 2
}
